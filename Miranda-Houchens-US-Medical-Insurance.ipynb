{
 "cells": [
  {
   "cell_type": "markdown",
   "metadata": {},
   "source": [
    "# U.S. Medical Insurance Analysis"
   ]
  },
  {
   "cell_type": "markdown",
   "metadata": {},
   "source": [
    "In this project, I'll be working with a dataset that includes demographic data and insurance costs for a variety of individuals. The goal of the project is to analyze a few factors in the data in order to guide further analysis."
   ]
  },
  {
   "cell_type": "markdown",
   "metadata": {},
   "source": [
    "### Focus of Project\n",
    "\n",
    "We're going to look primarily at the regional data included in the dataset, to identify some differences across the various regions."
   ]
  },
  {
   "cell_type": "code",
   "execution_count": 54,
   "metadata": {},
   "outputs": [
    {
     "name": "stdout",
     "output_type": "stream",
     "text": [
      "Average BMI of dataset: 30.66\n"
     ]
    }
   ],
   "source": [
    "# First, import the CSV libary\n",
    "import csv\n",
    "\n",
    "# Create some empty lists to work with\n",
    "bmi_data = []\n",
    "region_data = []\n",
    "sex_data = []\n",
    "age_data = []\n",
    "cost_data = []\n",
    "\n",
    "# Open the data set and use a list comprehension to convert it into a dictionary which I can access\n",
    "with open('insurance.csv') as insurance_csv:\n",
    "    csv_data = csv.DictReader(insurance_csv)\n",
    "    insurance_data = [row for row in csv_data]\n",
    "\n",
    "# Define a function that can be used to create lists\n",
    "def create_list(list_name, column_name):\n",
    "    for row in insurance_data:\n",
    "        list_name.append(row[column_name])\n",
    "    return list_name\n",
    "\n",
    "# Fill in the lists with the CSV data\n",
    "create_list(bmi_data, 'bmi')\n",
    "create_list(region_data, 'region')\n",
    "create_list(sex_data, 'sex')\n",
    "create_list(age_data, 'age')\n",
    "create_list(cost_data, 'charges')\n",
    "\n",
    "# Find the total BMI from the data\n",
    "total_bmi = 0\n",
    "for item in bmi_data:\n",
    "    total_bmi += float(item)\n",
    "avg_bmi = total_bmi / len(bmi_data)\n",
    "print(\"Average BMI of dataset: \" + str(round(avg_bmi, 2)))"
   ]
  },
  {
   "cell_type": "markdown",
   "metadata": {},
   "source": [
    "<b>Note:</b> We aren't using all of the created lists in this analysis, but the lists could be accessed to conduct further analysis in the future.\n"
   ]
  },
  {
   "cell_type": "markdown",
   "metadata": {},
   "source": [
    "### BMI by Region\n",
    "\n",
    "Next, we'll calculate the average BMI by region in the dataset. This can help us to make inferences regarding regional health differences, and could inform further data analysis to look into the accuracy of the conclusions found, and factors that may contribue to differences."
   ]
  },
  {
   "cell_type": "code",
   "execution_count": 21,
   "metadata": {},
   "outputs": [
    {
     "name": "stdout",
     "output_type": "stream",
     "text": [
      "The average BMI found in the southwest region was 30.6\n",
      "The average BMI found in the southeast region was 33.36\n",
      "The average BMI found in the northwest region was 29.2\n",
      "The average BMI found in the northeast region was 29.17\n",
      "\n"
     ]
    }
   ],
   "source": [
    "# A function that calculates the average BMI of a given region in the dataset\n",
    "def regional_avg_bmi(region):\n",
    "    total_bmi = 0\n",
    "    count = 0\n",
    "    for row in insurance_data:\n",
    "        if row['region'] == region:\n",
    "            total_bmi += float(row['bmi'])\n",
    "            count += 1\n",
    "\n",
    "    if count > 0:\n",
    "        avg_bmi = total_bmi / count\n",
    "        return round(avg_bmi, 2)\n",
    "    else:\n",
    "        return None\n",
    "\n",
    "# Calculate and print the average BMIs for each region\n",
    "print(\"The average BMI found in the southwest region was \" + str(regional_avg_bmi('southwest')))\n",
    "print(\"The average BMI found in the southeast region was \" + str(regional_avg_bmi('southeast')))\n",
    "print(\"The average BMI found in the northwest region was \" + str(regional_avg_bmi('northwest')))\n",
    "print(\"The average BMI found in the northeast region was \" + str(regional_avg_bmi('northeast')))\n",
    "print()"
   ]
  },
  {
   "cell_type": "markdown",
   "metadata": {},
   "source": [
    "<b>Conclusions:</b> According to the calculations, the Southeast region had the highest BMI on average in our dataset. However, we should also compare other factors such as the number of people sampled from each region. If the count for each region isn't similar, this could lead to inaccurate statistical analysis when we compare each region."
   ]
  },
  {
   "cell_type": "code",
   "execution_count": 27,
   "metadata": {},
   "outputs": [
    {
     "name": "stdout",
     "output_type": "stream",
     "text": [
      "The number of data points in the southwest region was 325\n",
      "The number of data points in the southeast region was 364\n",
      "The number of data points in the northwest region was 325\n",
      "The number of data points in the northeast region was 324\n",
      "\n"
     ]
    }
   ],
   "source": [
    "# A function to count the data points in each region\n",
    "def regional_count(region):\n",
    "    count = 0\n",
    "    for row in insurance_data:\n",
    "        if row['region'] == region:\n",
    "            count += 1\n",
    "    return count\n",
    "\n",
    "# Calculate and print the count for each region\n",
    "print(\"The number of data points in the southwest region was \" + str(regional_count('southwest')))\n",
    "print(\"The number of data points in the southeast region was \" + str(regional_count('southeast')))\n",
    "print(\"The number of data points in the northwest region was \" + str(regional_count('northwest')))\n",
    "print(\"The number of data points in the northeast region was \" + str(regional_count('northeast')))\n",
    "print()"
   ]
  },
  {
   "cell_type": "markdown",
   "metadata": {},
   "source": [
    "As we can see above, there were more individuals from the Southeast included in the dataset compared to the other regions. If this included quite a few outliers, it could have skewed the average BMI.\n",
    "\n",
    "### Smoking Habits by Region\n",
    "\n",
    "In addition to the number of data points in each set, another factor that could correlate with BMI is smoking habits. Let's look at what percentage of people smoked in each region surveyed.\n"
   ]
  },
  {
   "cell_type": "code",
   "execution_count": 45,
   "metadata": {},
   "outputs": [
    {
     "name": "stdout",
     "output_type": "stream",
     "text": [
      "The percentage of smokers found in the southwest region was 17.85%.\n",
      "The percentage of smokers found in the southeast region was 25.0%.\n",
      "The percentage of smokers found in the northwest region was 17.85%.\n",
      "The percentage of smokers found in the northeast region was 20.68%.\n",
      "\n"
     ]
    }
   ],
   "source": [
    "# A function that calculates the percentage of smokers in a given region\n",
    "def regional_smokers(region):\n",
    "    count = 0\n",
    "    for row in insurance_data:\n",
    "        if row['region'] == region:\n",
    "            if row['smoker'] == 'yes':\n",
    "                count += 1\n",
    "    percent_smokers = (count / regional_count(region)) * 100\n",
    "    return round(percent_smokers, 2)\n",
    "\n",
    "# Calculate and print the percentage of smokers in each region\n",
    "print(\"The percentage of smokers found in the southwest region was \" + str(regional_smokers('southwest')) + \"%.\")\n",
    "print(\"The percentage of smokers found in the southeast region was \" + str(regional_smokers('southeast')) + \"%.\")\n",
    "print(\"The percentage of smokers found in the northwest region was \" + str(regional_smokers('northwest')) + \"%.\")\n",
    "print(\"The percentage of smokers found in the northeast region was \" + str(regional_smokers('northeast')) + \"%.\")\n",
    "print()"
   ]
  },
  {
   "cell_type": "markdown",
   "metadata": {},
   "source": [
    "<b>Conclusions:</b> As you can see above, the Southeast region included the highest percentage of smokers, with approximately 1 in 4 people surveyed reporting that they smoke. It's possible this could correlate with the higher average BMI found in the region, but further analysis would be required to determine the statistical signifcance of various factors. Interestingly, the region with the lowest average BMI (Northeast) actually included a slightly higher percentage of smokers than the next two regions (Southwest and Northwest)."
   ]
  },
  {
   "cell_type": "markdown",
   "metadata": {},
   "source": [
    "### Notes for Further Exploration\n",
    "\n",
    "We've looked at a few factors in the data during this project. Some other analysis that could be explored includes:\n",
    "- Checking how number of children correlates to BMI\n",
    "- Checking how average number of children varies across region\n",
    "- Checking the number of men and women surveyed in each region, as women tend to have a higher average BMI than men, which could skew the data\n",
    "- Analyzing how age correlates to BMI across all regions, and if there are regional differences"
   ]
  }
 ],
 "metadata": {
  "kernelspec": {
   "display_name": "Python 3 (ipykernel)",
   "language": "python",
   "name": "python3"
  },
  "language_info": {
   "codemirror_mode": {
    "name": "ipython",
    "version": 3
   },
   "file_extension": ".py",
   "mimetype": "text/x-python",
   "name": "python",
   "nbconvert_exporter": "python",
   "pygments_lexer": "ipython3",
   "version": "3.12.4"
  }
 },
 "nbformat": 4,
 "nbformat_minor": 4
}
